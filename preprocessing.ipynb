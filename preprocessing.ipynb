{
 "cells": [
  {
   "cell_type": "code",
   "execution_count": 1,
   "metadata": {},
   "outputs": [],
   "source": [
    "from key.login import serverKey\n",
    "from com.Dbsys import DBsysyem\n",
    "import matplotlib.pyplot as plt\n",
    "import pandas as pd\n",
    "\n",
    "plt.style.use('seaborn')"
   ]
  },
  {
   "cell_type": "code",
   "execution_count": null,
   "metadata": {},
   "outputs": [],
   "source": [
    "key = serverKey('fever')\n",
    "system = DBsysyem(db_name='fevercoach_share',login=key.login)\n",
    "comd = 'select * from fever'\n",
    "fever = system.run(comd)"
   ]
  },
  {
   "cell_type": "code",
   "execution_count": 7,
   "metadata": {},
   "outputs": [
    {
     "data": {
      "text/html": [
       "<div>\n",
       "<style scoped>\n",
       "    .dataframe tbody tr th:only-of-type {\n",
       "        vertical-align: middle;\n",
       "    }\n",
       "\n",
       "    .dataframe tbody tr th {\n",
       "        vertical-align: top;\n",
       "    }\n",
       "\n",
       "    .dataframe thead th {\n",
       "        text-align: right;\n",
       "    }\n",
       "</style>\n",
       "<table border=\"1\" class=\"dataframe\">\n",
       "  <thead>\n",
       "    <tr style=\"text-align: right;\">\n",
       "      <th></th>\n",
       "      <th>baby_id</th>\n",
       "      <th>app_code</th>\n",
       "      <th>type</th>\n",
       "      <th>data1</th>\n",
       "      <th>data2</th>\n",
       "      <th>data3</th>\n",
       "      <th>data4</th>\n",
       "      <th>memo</th>\n",
       "      <th>date</th>\n",
       "    </tr>\n",
       "  </thead>\n",
       "  <tbody>\n",
       "    <tr>\n",
       "      <th>0</th>\n",
       "      <td>11724</td>\n",
       "      <td>100</td>\n",
       "      <td>1</td>\n",
       "      <td>38.2</td>\n",
       "      <td>C</td>\n",
       "      <td></td>\n",
       "      <td>0</td>\n",
       "      <td></td>\n",
       "      <td>2015-09-23 22:40:00\\r</td>\n",
       "    </tr>\n",
       "    <tr>\n",
       "      <th>1</th>\n",
       "      <td>11724</td>\n",
       "      <td>100</td>\n",
       "      <td>1</td>\n",
       "      <td>38.5</td>\n",
       "      <td>C</td>\n",
       "      <td></td>\n",
       "      <td>0</td>\n",
       "      <td></td>\n",
       "      <td>2015-09-23 23:41:00\\r</td>\n",
       "    </tr>\n",
       "    <tr>\n",
       "      <th>2</th>\n",
       "      <td>11724</td>\n",
       "      <td>100</td>\n",
       "      <td>1</td>\n",
       "      <td>37.8</td>\n",
       "      <td>C</td>\n",
       "      <td></td>\n",
       "      <td>0</td>\n",
       "      <td></td>\n",
       "      <td>2015-09-24 01:52:00\\r</td>\n",
       "    </tr>\n",
       "    <tr>\n",
       "      <th>3</th>\n",
       "      <td>11724</td>\n",
       "      <td>100</td>\n",
       "      <td>1</td>\n",
       "      <td>37.4</td>\n",
       "      <td>C</td>\n",
       "      <td></td>\n",
       "      <td>0</td>\n",
       "      <td></td>\n",
       "      <td>2015-09-24 02:59:00\\r</td>\n",
       "    </tr>\n",
       "    <tr>\n",
       "      <th>4</th>\n",
       "      <td>11724</td>\n",
       "      <td>100</td>\n",
       "      <td>1</td>\n",
       "      <td>37.3</td>\n",
       "      <td>C</td>\n",
       "      <td></td>\n",
       "      <td>0</td>\n",
       "      <td></td>\n",
       "      <td>2015-09-24 06:07:00\\r</td>\n",
       "    </tr>\n",
       "    <tr>\n",
       "      <th>...</th>\n",
       "      <td>...</td>\n",
       "      <td>...</td>\n",
       "      <td>...</td>\n",
       "      <td>...</td>\n",
       "      <td>...</td>\n",
       "      <td>...</td>\n",
       "      <td>...</td>\n",
       "      <td>...</td>\n",
       "      <td>...</td>\n",
       "    </tr>\n",
       "    <tr>\n",
       "      <th>25136973</th>\n",
       "      <td>713667</td>\n",
       "      <td>100</td>\n",
       "      <td>1</td>\n",
       "      <td>37.2</td>\n",
       "      <td></td>\n",
       "      <td></td>\n",
       "      <td>0</td>\n",
       "      <td></td>\n",
       "      <td>2019-02-26 22:06:00\\r</td>\n",
       "    </tr>\n",
       "    <tr>\n",
       "      <th>25136974</th>\n",
       "      <td>713667</td>\n",
       "      <td>100</td>\n",
       "      <td>1</td>\n",
       "      <td>37.4</td>\n",
       "      <td></td>\n",
       "      <td></td>\n",
       "      <td>0</td>\n",
       "      <td></td>\n",
       "      <td>2019-02-26 20:35:00\\r</td>\n",
       "    </tr>\n",
       "    <tr>\n",
       "      <th>25136975</th>\n",
       "      <td>713667</td>\n",
       "      <td>100</td>\n",
       "      <td>1</td>\n",
       "      <td>36.9</td>\n",
       "      <td></td>\n",
       "      <td></td>\n",
       "      <td>0</td>\n",
       "      <td></td>\n",
       "      <td>2019-02-26 11:13:00\\r</td>\n",
       "    </tr>\n",
       "    <tr>\n",
       "      <th>25136976</th>\n",
       "      <td>718985</td>\n",
       "      <td>100</td>\n",
       "      <td>1</td>\n",
       "      <td>38.2</td>\n",
       "      <td>C</td>\n",
       "      <td></td>\n",
       "      <td>0</td>\n",
       "      <td></td>\n",
       "      <td>2019-10-16 21:15:22\\r</td>\n",
       "    </tr>\n",
       "    <tr>\n",
       "      <th>25136977</th>\n",
       "      <td>551099</td>\n",
       "      <td>100</td>\n",
       "      <td>1</td>\n",
       "      <td>38.4</td>\n",
       "      <td>C</td>\n",
       "      <td></td>\n",
       "      <td>0</td>\n",
       "      <td></td>\n",
       "      <td>2019-02-28 21:12:50\\r</td>\n",
       "    </tr>\n",
       "  </tbody>\n",
       "</table>\n",
       "<p>25136978 rows × 9 columns</p>\n",
       "</div>"
      ],
      "text/plain": [
       "          baby_id  app_code  type data1 data2 data3  data4 memo  \\\n",
       "0           11724       100     1  38.2     C            0        \n",
       "1           11724       100     1  38.5     C            0        \n",
       "2           11724       100     1  37.8     C            0        \n",
       "3           11724       100     1  37.4     C            0        \n",
       "4           11724       100     1  37.3     C            0        \n",
       "...           ...       ...   ...   ...   ...   ...    ...  ...   \n",
       "25136973   713667       100     1  37.2                  0        \n",
       "25136974   713667       100     1  37.4                  0        \n",
       "25136975   713667       100     1  36.9                  0        \n",
       "25136976   718985       100     1  38.2     C            0        \n",
       "25136977   551099       100     1  38.4     C            0        \n",
       "\n",
       "                           date  \n",
       "0         2015-09-23 22:40:00\\r  \n",
       "1         2015-09-23 23:41:00\\r  \n",
       "2         2015-09-24 01:52:00\\r  \n",
       "3         2015-09-24 02:59:00\\r  \n",
       "4         2015-09-24 06:07:00\\r  \n",
       "...                         ...  \n",
       "25136973  2019-02-26 22:06:00\\r  \n",
       "25136974  2019-02-26 20:35:00\\r  \n",
       "25136975  2019-02-26 11:13:00\\r  \n",
       "25136976  2019-10-16 21:15:22\\r  \n",
       "25136977  2019-02-28 21:12:50\\r  \n",
       "\n",
       "[25136978 rows x 9 columns]"
      ]
     },
     "execution_count": 7,
     "metadata": {},
     "output_type": "execute_result"
    }
   ],
   "source": [
    "fever"
   ]
  },
  {
   "cell_type": "code",
   "execution_count": 2,
   "metadata": {},
   "outputs": [],
   "source": [
    "key = serverKey('mimic')\n",
    "system = DBsysyem(db_name='mimiciv', login=key.login)\n",
    "\n",
    "comd2 = 'select * from icustays'\n",
    "\n",
    "icustay = system.run(comd2)\n"
   ]
  },
  {
   "cell_type": "code",
   "execution_count": 24,
   "metadata": {},
   "outputs": [],
   "source": [
    "comd = 'select * from admissions'\n",
    "\n",
    "adm = system.run(comd)\n",
    "\n"
   ]
  },
  {
   "cell_type": "code",
   "execution_count": 25,
   "metadata": {},
   "outputs": [
    {
     "name": "stdout",
     "output_type": "stream",
     "text": [
      "<class 'pandas.core.frame.DataFrame'>\n",
      "RangeIndex: 76540 entries, 0 to 76539\n",
      "Data columns (total 8 columns):\n",
      " #   Column          Non-Null Count  Dtype         \n",
      "---  ------          --------------  -----         \n",
      " 0   subject_id      76540 non-null  int64         \n",
      " 1   hadm_id         76540 non-null  int64         \n",
      " 2   stay_id         76540 non-null  int64         \n",
      " 3   first_careunit  76540 non-null  object        \n",
      " 4   last_careunit   76540 non-null  object        \n",
      " 5   intime          76540 non-null  datetime64[ns]\n",
      " 6   outtime         76540 non-null  datetime64[ns]\n",
      " 7   los             76540 non-null  float64       \n",
      "dtypes: datetime64[ns](2), float64(1), int64(3), object(2)\n",
      "memory usage: 4.7+ MB\n"
     ]
    }
   ],
   "source": [
    "df.info()"
   ]
  },
  {
   "cell_type": "code",
   "execution_count": 26,
   "metadata": {},
   "outputs": [
    {
     "data": {
      "text/plain": [
       "23390"
      ]
     },
     "execution_count": 26,
     "metadata": {},
     "output_type": "execute_result"
    }
   ],
   "source": [
    "#subject_id 중복 row\n",
    "df.duplicated(['subject_id']).sum()"
   ]
  },
  {
   "cell_type": "code",
   "execution_count": 27,
   "metadata": {},
   "outputs": [
    {
     "data": {
      "text/plain": [
       "7329"
      ]
     },
     "execution_count": 27,
     "metadata": {},
     "output_type": "execute_result"
    }
   ],
   "source": [
    "df.duplicated(['hadm_id']).sum()"
   ]
  },
  {
   "cell_type": "code",
   "execution_count": 28,
   "metadata": {},
   "outputs": [
    {
     "data": {
      "text/plain": [
       "0"
      ]
     },
     "execution_count": 28,
     "metadata": {},
     "output_type": "execute_result"
    }
   ],
   "source": [
    "df.duplicated(['stay_id']).sum()"
   ]
  },
  {
   "cell_type": "code",
   "execution_count": 12,
   "metadata": {},
   "outputs": [
    {
     "data": {
      "text/plain": [
       "0"
      ]
     },
     "execution_count": 12,
     "metadata": {},
     "output_type": "execute_result"
    }
   ],
   "source": [
    "df.duplicated(['hadm_id','stay_id']).sum()"
   ]
  },
  {
   "cell_type": "code",
   "execution_count": 29,
   "metadata": {},
   "outputs": [
    {
     "data": {
      "text/html": [
       "<div>\n",
       "<style scoped>\n",
       "    .dataframe tbody tr th:only-of-type {\n",
       "        vertical-align: middle;\n",
       "    }\n",
       "\n",
       "    .dataframe tbody tr th {\n",
       "        vertical-align: top;\n",
       "    }\n",
       "\n",
       "    .dataframe thead th {\n",
       "        text-align: right;\n",
       "    }\n",
       "</style>\n",
       "<table border=\"1\" class=\"dataframe\">\n",
       "  <thead>\n",
       "    <tr style=\"text-align: right;\">\n",
       "      <th></th>\n",
       "      <th>stay_id</th>\n",
       "    </tr>\n",
       "    <tr>\n",
       "      <th>hadm_id</th>\n",
       "      <th></th>\n",
       "    </tr>\n",
       "  </thead>\n",
       "  <tbody>\n",
       "    <tr>\n",
       "      <th>20000094</th>\n",
       "      <td>False</td>\n",
       "    </tr>\n",
       "    <tr>\n",
       "      <th>20000147</th>\n",
       "      <td>False</td>\n",
       "    </tr>\n",
       "    <tr>\n",
       "      <th>20000351</th>\n",
       "      <td>False</td>\n",
       "    </tr>\n",
       "    <tr>\n",
       "      <th>20000397</th>\n",
       "      <td>False</td>\n",
       "    </tr>\n",
       "    <tr>\n",
       "      <th>20000808</th>\n",
       "      <td>True</td>\n",
       "    </tr>\n",
       "    <tr>\n",
       "      <th>...</th>\n",
       "      <td>...</td>\n",
       "    </tr>\n",
       "    <tr>\n",
       "      <th>29999186</th>\n",
       "      <td>False</td>\n",
       "    </tr>\n",
       "    <tr>\n",
       "      <th>29999444</th>\n",
       "      <td>False</td>\n",
       "    </tr>\n",
       "    <tr>\n",
       "      <th>29999498</th>\n",
       "      <td>False</td>\n",
       "    </tr>\n",
       "    <tr>\n",
       "      <th>29999625</th>\n",
       "      <td>False</td>\n",
       "    </tr>\n",
       "    <tr>\n",
       "      <th>29999828</th>\n",
       "      <td>False</td>\n",
       "    </tr>\n",
       "  </tbody>\n",
       "</table>\n",
       "<p>69211 rows × 1 columns</p>\n",
       "</div>"
      ],
      "text/plain": [
       "          stay_id\n",
       "hadm_id          \n",
       "20000094    False\n",
       "20000147    False\n",
       "20000351    False\n",
       "20000397    False\n",
       "20000808     True\n",
       "...           ...\n",
       "29999186    False\n",
       "29999444    False\n",
       "29999498    False\n",
       "29999625    False\n",
       "29999828    False\n",
       "\n",
       "[69211 rows x 1 columns]"
      ]
     },
     "execution_count": 29,
     "metadata": {},
     "output_type": "execute_result"
    }
   ],
   "source": [
    "df.groupby('hadm_id')[['stay_id']].count().gt(1)"
   ]
  },
  {
   "cell_type": "code",
   "execution_count": 23,
   "metadata": {},
   "outputs": [
    {
     "data": {
      "text/html": [
       "<div>\n",
       "<style scoped>\n",
       "    .dataframe tbody tr th:only-of-type {\n",
       "        vertical-align: middle;\n",
       "    }\n",
       "\n",
       "    .dataframe tbody tr th {\n",
       "        vertical-align: top;\n",
       "    }\n",
       "\n",
       "    .dataframe thead th {\n",
       "        text-align: right;\n",
       "    }\n",
       "</style>\n",
       "<table border=\"1\" class=\"dataframe\">\n",
       "  <thead>\n",
       "    <tr style=\"text-align: right;\">\n",
       "      <th></th>\n",
       "      <th>subject_id</th>\n",
       "      <th>hadm_id</th>\n",
       "      <th>stay_id</th>\n",
       "      <th>first_careunit</th>\n",
       "      <th>last_careunit</th>\n",
       "      <th>intime</th>\n",
       "      <th>outtime</th>\n",
       "      <th>los</th>\n",
       "    </tr>\n",
       "  </thead>\n",
       "  <tbody>\n",
       "    <tr>\n",
       "      <th>29133</th>\n",
       "      <td>16788749</td>\n",
       "      <td>20000808</td>\n",
       "      <td>30610654</td>\n",
       "      <td>Surgical Intensive Care Unit (SICU)</td>\n",
       "      <td>Surgical Intensive Care Unit (SICU)</td>\n",
       "      <td>2180-01-17 19:32:10</td>\n",
       "      <td>2180-01-19 20:40:36</td>\n",
       "      <td>2.047520</td>\n",
       "    </tr>\n",
       "    <tr>\n",
       "      <th>33501</th>\n",
       "      <td>16788749</td>\n",
       "      <td>20000808</td>\n",
       "      <td>35191063</td>\n",
       "      <td>Surgical Intensive Care Unit (SICU)</td>\n",
       "      <td>Surgical Intensive Care Unit (SICU)</td>\n",
       "      <td>2180-01-12 22:07:00</td>\n",
       "      <td>2180-01-13 13:36:47</td>\n",
       "      <td>0.645683</td>\n",
       "    </tr>\n",
       "  </tbody>\n",
       "</table>\n",
       "</div>"
      ],
      "text/plain": [
       "       subject_id   hadm_id   stay_id                       first_careunit  \\\n",
       "29133    16788749  20000808  30610654  Surgical Intensive Care Unit (SICU)   \n",
       "33501    16788749  20000808  35191063  Surgical Intensive Care Unit (SICU)   \n",
       "\n",
       "                             last_careunit              intime  \\\n",
       "29133  Surgical Intensive Care Unit (SICU) 2180-01-17 19:32:10   \n",
       "33501  Surgical Intensive Care Unit (SICU) 2180-01-12 22:07:00   \n",
       "\n",
       "                  outtime       los  \n",
       "29133 2180-01-19 20:40:36  2.047520  \n",
       "33501 2180-01-13 13:36:47  0.645683  "
      ]
     },
     "execution_count": 23,
     "metadata": {},
     "output_type": "execute_result"
    }
   ],
   "source": [
    "df[df['hadm_id']==20000808]"
   ]
  },
  {
   "cell_type": "code",
   "execution_count": 31,
   "metadata": {},
   "outputs": [
    {
     "name": "stdout",
     "output_type": "stream",
     "text": [
      "<class 'pandas.core.frame.DataFrame'>\n",
      "RangeIndex: 523740 entries, 0 to 523739\n",
      "Data columns (total 15 columns):\n",
      " #   Column                Non-Null Count   Dtype         \n",
      "---  ------                --------------   -----         \n",
      " 0   subject_id            523740 non-null  int64         \n",
      " 1   hadm_id               523740 non-null  int64         \n",
      " 2   admittime             523740 non-null  datetime64[ns]\n",
      " 3   dischtime             523740 non-null  datetime64[ns]\n",
      " 4   deathtime             9337 non-null    datetime64[ns]\n",
      " 5   admission_type        523740 non-null  object        \n",
      " 6   admission_location    463305 non-null  object        \n",
      " 7   discharge_location    397083 non-null  object        \n",
      " 8   insurance             523740 non-null  object        \n",
      " 9   language              523740 non-null  object        \n",
      " 10  marital_status        457633 non-null  object        \n",
      " 11  ethnicity             523740 non-null  object        \n",
      " 12  edregtime             311504 non-null  datetime64[ns]\n",
      " 13  edouttime             311504 non-null  datetime64[ns]\n",
      " 14  hospital_expire_flag  523740 non-null  int64         \n",
      "dtypes: datetime64[ns](5), int64(3), object(7)\n",
      "memory usage: 59.9+ MB\n"
     ]
    }
   ],
   "source": [
    "adm.info()"
   ]
  },
  {
   "cell_type": "code",
   "execution_count": 34,
   "metadata": {},
   "outputs": [
    {
     "name": "stdout",
     "output_type": "stream",
     "text": [
      "<class 'pandas.core.frame.DataFrame'>\n",
      "RangeIndex: 76540 entries, 0 to 76539\n",
      "Data columns (total 8 columns):\n",
      " #   Column          Non-Null Count  Dtype         \n",
      "---  ------          --------------  -----         \n",
      " 0   subject_id      76540 non-null  int64         \n",
      " 1   hadm_id         76540 non-null  int64         \n",
      " 2   stay_id         76540 non-null  int64         \n",
      " 3   first_careunit  76540 non-null  object        \n",
      " 4   last_careunit   76540 non-null  object        \n",
      " 5   intime          76540 non-null  datetime64[ns]\n",
      " 6   outtime         76540 non-null  datetime64[ns]\n",
      " 7   los             76540 non-null  float64       \n",
      "dtypes: datetime64[ns](2), float64(1), int64(3), object(2)\n",
      "memory usage: 4.7+ MB\n"
     ]
    }
   ],
   "source": [
    "icustay.info()"
   ]
  },
  {
   "cell_type": "code",
   "execution_count": 35,
   "metadata": {},
   "outputs": [],
   "source": [
    "comd3 = 'select * from d_items'\n",
    "\n",
    "di = system.run(comd3)"
   ]
  },
  {
   "cell_type": "code",
   "execution_count": 37,
   "metadata": {},
   "outputs": [
    {
     "data": {
      "text/plain": [
       "Skin - Impairment           412\n",
       "Access Lines - Invasive     363\n",
       "Respiratory                 163\n",
       "Labs                        161\n",
       "Medications                 137\n",
       "                           ... \n",
       "ApacheIV Parameters           2\n",
       "Case Management               2\n",
       "2-Ventilation                 2\n",
       "Research Enrollment Note      1\n",
       "RNTriggerNote                 1\n",
       "Name: category, Length: 79, dtype: int64"
      ]
     },
     "execution_count": 37,
     "metadata": {},
     "output_type": "execute_result"
    }
   ],
   "source": [
    "di.category.value_counts()"
   ]
  },
  {
   "cell_type": "code",
   "execution_count": null,
   "metadata": {},
   "outputs": [],
   "source": []
  }
 ],
 "metadata": {
  "kernelspec": {
   "display_name": "Python 3",
   "language": "python",
   "name": "python3"
  },
  "language_info": {
   "codemirror_mode": {
    "name": "ipython",
    "version": 3
   },
   "file_extension": ".py",
   "mimetype": "text/x-python",
   "name": "python",
   "nbconvert_exporter": "python",
   "pygments_lexer": "ipython3",
   "version": "3.8.5"
  }
 },
 "nbformat": 4,
 "nbformat_minor": 4
}
